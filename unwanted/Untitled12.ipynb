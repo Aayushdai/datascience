{
 "cells": [
  {
   "cell_type": "code",
   "execution_count": 4,
   "id": "22450346-c0ab-47fa-b3ef-3029cf92e048",
   "metadata": {},
   "outputs": [],
   "source": [
    "import numpy as np\n",
    "import matplotlib.pyplot as pts\n",
    "import cv2"
   ]
  },
  {
   "cell_type": "code",
   "execution_count": 5,
   "id": "f07fc7f5-cf12-47e9-b04b-218119b711dc",
   "metadata": {},
   "outputs": [],
   "source": [
    "from sklearn.cluster import KMeans"
   ]
  },
  {
   "cell_type": "code",
   "execution_count": 6,
   "id": "3ca10a2a-a508-4483-abe5-bda47462b7a6",
   "metadata": {},
   "outputs": [
    {
     "ename": "ModuleNotFoundError",
     "evalue": "No module named 'IPython.dispaly'",
     "output_type": "error",
     "traceback": [
      "\u001b[1;31m---------------------------------------------------------------------------\u001b[0m",
      "\u001b[1;31mModuleNotFoundError\u001b[0m                       Traceback (most recent call last)",
      "Cell \u001b[1;32mIn[6], line 2\u001b[0m\n\u001b[0;32m      1\u001b[0m \u001b[38;5;28;01mfrom\u001b[39;00m\u001b[38;5;250m \u001b[39m\u001b[38;5;21;01mipywidgets\u001b[39;00m\u001b[38;5;250m \u001b[39m\u001b[38;5;28;01mimport\u001b[39;00m FileUpload\n\u001b[1;32m----> 2\u001b[0m \u001b[38;5;28;01mfrom\u001b[39;00m\u001b[38;5;250m \u001b[39m\u001b[38;5;21;01mIPython\u001b[39;00m\u001b[38;5;21;01m.\u001b[39;00m\u001b[38;5;21;01mdispaly\u001b[39;00m\u001b[38;5;250m \u001b[39m\u001b[38;5;28;01mimport\u001b[39;00m display\n\u001b[0;32m      3\u001b[0m \u001b[38;5;28;01mimport\u001b[39;00m\u001b[38;5;250m \u001b[39m\u001b[38;5;21;01moi\u001b[39;00m\n\u001b[0;32m      4\u001b[0m \u001b[38;5;28;01mfrom\u001b[39;00m\u001b[38;5;250m \u001b[39m\u001b[38;5;21;01mPIL\u001b[39;00m\u001b[38;5;250m \u001b[39m\u001b[38;5;28;01mimport\u001b[39;00m Image \u001b[38;5;28;01mas\u001b[39;00m PILimage\n",
      "\u001b[1;31mModuleNotFoundError\u001b[0m: No module named 'IPython.dispaly'"
     ]
    }
   ],
   "source": [
    "from ipywidgets import FileUpload\n",
    "from IPython.dispaly import display\n",
    "import oi\n",
    "from PIL import Image as PILimage"
   ]
  },
  {
   "cell_type": "code",
   "execution_count": null,
   "id": "b7b7a1f0-b599-44fd-ba6b-0950bce9cbbb",
   "metadata": {},
   "outputs": [],
   "source": [
    "#step1:upload file\n",
    "image_file = FileUpload(accept='image/*',multiple=False)\n",
    "dispaly(image_File)"
   ]
  },
  {
   "cell_type": "code",
   "execution_count": null,
   "id": "57c86a91-f129-4dcc-b629-9bac8dd00962",
   "metadata": {},
   "outputs": [],
   "source": [
    "def image_process(image_File):\n",
    "    for fileinfo in image_file.value:\n",
    "        img_bytes=io.BytesID(Fileinfo['content'])\n",
    "        image=PILImage.open(img_bytes).convert(\"RGB\")\n",
    "        dispaly[image]\n",
    "        image_array=np.array(image)\n",
    "\n",
    "        print(\"Image shape:\",image_array.shape)\n",
    "        print(\"Image dtype:\",image_array.dispaly)\n",
    "        return image_array"
   ]
  },
  {
   "cell_type": "code",
   "execution_count": null,
   "id": "b8a7a4ba-e798-4d1e-97da-b04bcc8ace4c",
   "metadata": {},
   "outputs": [],
   "source": [
    "#rreshaping iamge array\n",
    "image_reshape=image_array.reshape(-1,3)\n",
    "image_reshape"
   ]
  },
  {
   "cell_type": "code",
   "execution_count": null,
   "id": "d281053f-6933-4ae1-978b-3e5cd9f6e9e6",
   "metadata": {},
   "outputs": [],
   "source": [
    "inerties=[]\n",
    "for k in range(1,11):\n",
    "    kmeans=KHeans(n_clususter).fit(image_reshape)\n",
    "    inerties.append(kmeans.inertia_)\n",
    "\n",
    "plt.plot(range(1,11),inertia,marker='o')\n",
    "plt.xlabel('Number of Cluster')\n",
    "plt.ylabel('Inertia')\n",
    "plt.title('Elbow MEthod')\n",
    "plt.grid()\n",
    "plt.show()"
   ]
  },
  {
   "cell_type": "code",
   "execution_count": null,
   "id": "303e3fca-f5b5-49ea-953d-ca6c5a6653f1",
   "metadata": {},
   "outputs": [],
   "source": [
    "#Apply k-means clustering\n",
    "kmeans = KMeans(n_clusters=4)\n",
    "kmeans.fit(image_reshape)\n",
    "\n",
    "#Get the cluster centers (dominant colors)\n",
    "dominant_colors = kmeans.cluster_centers_.astype(int)\n",
    "\n",
    "#Optionally recreate a clustered image\n",
    "labels = kmeans.labels_\n",
    "clustered_img = dominant_colors[labels].reshape(image_array.shape)\n",
    "#show the result\n",
    "plt.inshow(clustered_img.astype('uints'))\n",
    "plt.axis('off')\n",
    "plt.show()"
   ]
  },
  {
   "cell_type": "code",
   "execution_count": null,
   "id": "e41b8c9c-f785-4f93-8095-a9b4834715e8",
   "metadata": {},
   "outputs": [],
   "source": [
    "def plot_color_band(colors):\n",
    "    height=50\n",
    "    width_per_color==100\n",
    "    band=np.zeros(height,width_per_color*len(colors),3),dtype='units')\n",
    "\n",
    "    for i, color in enumerate(colors):\n",
    "        band[:,i*width_per_color:(i+1)*width_per_color,:)]=color\n",
    "\n",
    "    plt.figure(flgsize=(0,2))\n",
    "    plt.imshow(band)\n",
    "    plt.axis('off')\n",
    "    plt.title(f{len(colors)} Dominant colors')\n",
    "    plt.show()"
   ]
  },
  {
   "cell_type": "code",
   "execution_count": null,
   "id": "2132a94d-bbdf-4331-9050-9f5bb9f4e7b8",
   "metadata": {},
   "outputs": [],
   "source": [
    "plot_color_band(dominant_colors)"
   ]
  },
  {
   "cell_type": "code",
   "execution_count": 2,
   "id": "03ba33f8-cd4e-4e6b-9eaf-124fce245cc6",
   "metadata": {},
   "outputs": [
    {
     "name": "stdout",
     "output_type": "stream",
     "text": [
      "Collecting opencv-python\n",
      "  Using cached opencv_python-4.11.0.86-cp37-abi3-win_amd64.whl.metadata (20 kB)\n",
      "Requirement already satisfied: numpy>=1.21.2 in e:\\datascience\\venv\\lib\\site-packages (from opencv-python) (2.2.3)\n",
      "Using cached opencv_python-4.11.0.86-cp37-abi3-win_amd64.whl (39.5 MB)\n",
      "Installing collected packages: opencv-python\n",
      "Successfully installed opencv-python-4.11.0.86\n"
     ]
    },
    {
     "name": "stderr",
     "output_type": "stream",
     "text": [
      "\n",
      "[notice] A new release of pip is available: 24.3.1 -> 25.1.1\n",
      "[notice] To update, run: python.exe -m pip install --upgrade pip\n"
     ]
    }
   ],
   "source": [
    "!pip install opencv-python\n"
   ]
  },
  {
   "cell_type": "code",
   "execution_count": 3,
   "id": "d10bc553-715b-46ae-b169-135e92760aef",
   "metadata": {},
   "outputs": [
    {
     "name": "stdout",
     "output_type": "stream",
     "text": [
      "Collecting ipywidgets\n",
      "  Downloading ipywidgets-8.1.7-py3-none-any.whl.metadata (2.4 kB)\n",
      "Requirement already satisfied: comm>=0.1.3 in e:\\datascience\\venv\\lib\\site-packages (from ipywidgets) (0.2.2)\n",
      "Requirement already satisfied: ipython>=6.1.0 in e:\\datascience\\venv\\lib\\site-packages (from ipywidgets) (8.32.0)\n",
      "Requirement already satisfied: traitlets>=4.3.1 in e:\\datascience\\venv\\lib\\site-packages (from ipywidgets) (5.14.3)\n",
      "Collecting widgetsnbextension~=4.0.14 (from ipywidgets)\n",
      "  Downloading widgetsnbextension-4.0.14-py3-none-any.whl.metadata (1.6 kB)\n",
      "Collecting jupyterlab_widgets~=3.0.15 (from ipywidgets)\n",
      "  Downloading jupyterlab_widgets-3.0.15-py3-none-any.whl.metadata (20 kB)\n",
      "Requirement already satisfied: colorama in e:\\datascience\\venv\\lib\\site-packages (from ipython>=6.1.0->ipywidgets) (0.4.6)\n",
      "Requirement already satisfied: decorator in e:\\datascience\\venv\\lib\\site-packages (from ipython>=6.1.0->ipywidgets) (5.1.1)\n",
      "Requirement already satisfied: jedi>=0.16 in e:\\datascience\\venv\\lib\\site-packages (from ipython>=6.1.0->ipywidgets) (0.19.2)\n",
      "Requirement already satisfied: matplotlib-inline in e:\\datascience\\venv\\lib\\site-packages (from ipython>=6.1.0->ipywidgets) (0.1.7)\n",
      "Requirement already satisfied: prompt_toolkit<3.1.0,>=3.0.41 in e:\\datascience\\venv\\lib\\site-packages (from ipython>=6.1.0->ipywidgets) (3.0.50)\n",
      "Requirement already satisfied: pygments>=2.4.0 in e:\\datascience\\venv\\lib\\site-packages (from ipython>=6.1.0->ipywidgets) (2.19.1)\n",
      "Requirement already satisfied: stack_data in e:\\datascience\\venv\\lib\\site-packages (from ipython>=6.1.0->ipywidgets) (0.6.3)\n",
      "Requirement already satisfied: parso<0.9.0,>=0.8.4 in e:\\datascience\\venv\\lib\\site-packages (from jedi>=0.16->ipython>=6.1.0->ipywidgets) (0.8.4)\n",
      "Requirement already satisfied: wcwidth in e:\\datascience\\venv\\lib\\site-packages (from prompt_toolkit<3.1.0,>=3.0.41->ipython>=6.1.0->ipywidgets) (0.2.13)\n",
      "Requirement already satisfied: executing>=1.2.0 in e:\\datascience\\venv\\lib\\site-packages (from stack_data->ipython>=6.1.0->ipywidgets) (2.2.0)\n",
      "Requirement already satisfied: asttokens>=2.1.0 in e:\\datascience\\venv\\lib\\site-packages (from stack_data->ipython>=6.1.0->ipywidgets) (3.0.0)\n",
      "Requirement already satisfied: pure-eval in e:\\datascience\\venv\\lib\\site-packages (from stack_data->ipython>=6.1.0->ipywidgets) (0.2.3)\n",
      "Downloading ipywidgets-8.1.7-py3-none-any.whl (139 kB)\n",
      "Downloading jupyterlab_widgets-3.0.15-py3-none-any.whl (216 kB)\n",
      "Downloading widgetsnbextension-4.0.14-py3-none-any.whl (2.2 MB)\n",
      "   ---------------------------------------- 0.0/2.2 MB ? eta -:--:--\n",
      "   ------------------- -------------------- 1.0/2.2 MB 4.6 MB/s eta 0:00:01\n",
      "   -------------------------------------- - 2.1/2.2 MB 5.2 MB/s eta 0:00:01\n",
      "   ---------------------------------------- 2.2/2.2 MB 4.7 MB/s eta 0:00:00\n",
      "Installing collected packages: widgetsnbextension, jupyterlab_widgets, ipywidgets\n",
      "Successfully installed ipywidgets-8.1.7 jupyterlab_widgets-3.0.15 widgetsnbextension-4.0.14\n"
     ]
    },
    {
     "name": "stderr",
     "output_type": "stream",
     "text": [
      "\n",
      "[notice] A new release of pip is available: 24.3.1 -> 25.1.1\n",
      "[notice] To update, run: python.exe -m pip install --upgrade pip\n"
     ]
    }
   ],
   "source": [
    "!pip install ipywidgets\n"
   ]
  },
  {
   "cell_type": "code",
   "execution_count": null,
   "id": "d173c576-cdc1-4add-97f1-519eb0a9b537",
   "metadata": {},
   "outputs": [],
   "source": []
  }
 ],
 "metadata": {
  "kernelspec": {
   "display_name": "Python 3 (ipykernel)",
   "language": "python",
   "name": "python3"
  },
  "language_info": {
   "codemirror_mode": {
    "name": "ipython",
    "version": 3
   },
   "file_extension": ".py",
   "mimetype": "text/x-python",
   "name": "python",
   "nbconvert_exporter": "python",
   "pygments_lexer": "ipython3",
   "version": "3.13.2"
  }
 },
 "nbformat": 4,
 "nbformat_minor": 5
}

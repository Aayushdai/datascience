{
 "cells": [
  {
   "cell_type": "code",
   "execution_count": 1,
   "id": "300ec5c3-1e3c-4a20-8361-eba7e2571f37",
   "metadata": {},
   "outputs": [],
   "source": [
    "Folder_path=r\"\""
   ]
  },
  {
   "cell_type": "code",
   "execution_count": 2,
   "id": "e0e66370-0957-498e-9f13-9fc169842e15",
   "metadata": {},
   "outputs": [
    {
     "ename": "ImportError",
     "evalue": "cannot import name 'image' from 'PIL' (E:\\datascience\\venv\\Lib\\site-packages\\PIL\\__init__.py)",
     "output_type": "error",
     "traceback": [
      "\u001b[1;31m---------------------------------------------------------------------------\u001b[0m",
      "\u001b[1;31mImportError\u001b[0m                               Traceback (most recent call last)",
      "Cell \u001b[1;32mIn[2], line 1\u001b[0m\n\u001b[1;32m----> 1\u001b[0m \u001b[38;5;28;01mfrom\u001b[39;00m\u001b[38;5;250m \u001b[39m\u001b[38;5;21;01mPIL\u001b[39;00m\u001b[38;5;250m \u001b[39m\u001b[38;5;28;01mimport\u001b[39;00m image\n",
      "\u001b[1;31mImportError\u001b[0m: cannot import name 'image' from 'PIL' (E:\\datascience\\venv\\Lib\\site-packages\\PIL\\__init__.py)"
     ]
    }
   ],
   "source": [
    "from PIL import image"
   ]
  },
  {
   "cell_type": "code",
   "execution_count": 3,
   "id": "215f4902-9f6b-4ab8-a3ab-fb6687300330",
   "metadata": {},
   "outputs": [
    {
     "name": "stderr",
     "output_type": "stream",
     "text": [
      "npm error code E404\n",
      "npm error 404 Not Found - GET https://registry.npmjs.org/PIL - Not found\n",
      "npm error 404\n",
      "npm error 404  'PIL@*' is not in this registry.\n",
      "npm error 404 This package name is not valid, because \n",
      "npm error 404  1. name can no longer contain capital letters\n",
      "npm error 404\n",
      "npm error 404 Note that you can also install from a\n",
      "npm error 404 tarball, folder, http url, or git url.\n",
      "npm error A complete log of this run can be found in: C:\\Users\\Aayush\\AppData\\Local\\npm-cache\\_logs\\2025-07-03T06_45_45_044Z-debug-0.log\n"
     ]
    }
   ],
   "source": [
    "!npm install PIL\n"
   ]
  },
  {
   "cell_type": "code",
   "execution_count": null,
   "id": "2da4a722-cd1f-460d-b453-01a091297073",
   "metadata": {},
   "outputs": [],
   "source": []
  }
 ],
 "metadata": {
  "kernelspec": {
   "display_name": "Python 3 (ipykernel)",
   "language": "python",
   "name": "python3"
  },
  "language_info": {
   "codemirror_mode": {
    "name": "ipython",
    "version": 3
   },
   "file_extension": ".py",
   "mimetype": "text/x-python",
   "name": "python",
   "nbconvert_exporter": "python",
   "pygments_lexer": "ipython3",
   "version": "3.13.2"
  }
 },
 "nbformat": 4,
 "nbformat_minor": 5
}

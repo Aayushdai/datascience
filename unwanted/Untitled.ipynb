{
 "cells": [
  {
   "cell_type": "code",
   "execution_count": 1,
   "id": "fd7ec3f9-60c2-4951-97e1-d38a48a4e801",
   "metadata": {},
   "outputs": [
    {
     "name": "stdout",
     "output_type": "stream",
     "text": [
      "HELLO\n"
     ]
    }
   ],
   "source": [
    "\n",
    "print(\"HELLO\")"
   ]
  },
  {
   "cell_type": "code",
   "execution_count": 2,
   "id": "1e8a0c60-8edd-4dee-ae0f-63c70d7c015f",
   "metadata": {},
   "outputs": [],
   "source": [
    "#he"
   ]
  },
  {
   "cell_type": "code",
   "execution_count": 3,
   "id": "97834ecc-f90e-4e20-bed5-421bd6d8a579",
   "metadata": {},
   "outputs": [],
   "source": [
    "class Bank:\n",
    "    b_name='nepal bank'\n",
    "    b_code='1123'\n",
    "    def show_info(self):\n",
    "        print(f\"The bank name is: {Bank.b_name}\")\n",
    "        print(f\"The code of the bank is : {Bank.b_code}\")\n",
    "class Branch(Bank):\n",
    "    location ='patan'\n",
    "    def branch_info(self):\n",
    "        print(f\"The bank name is: {Bank.b_name}\")\n",
    "        print(f\"The code of the bank is : {Bank.b_code}\")\n",
    "        print(f\"The location is in : {Branch.location}\")"
   ]
  },
  {
   "cell_type": "code",
   "execution_count": 4,
   "id": "e0a4f24f-b4ac-4fca-b4a8-2dbd1b5b5055",
   "metadata": {},
   "outputs": [
    {
     "name": "stdout",
     "output_type": "stream",
     "text": [
      "The bank name is: nepal bank\n",
      "The code of the bank is : 1123\n",
      "The bank name is: nepal bank\n",
      "The code of the bank is : 1123\n",
      "The location is in : patan\n"
     ]
    }
   ],
   "source": [
    "branch = Branch()\n",
    "branch.show_info()\n",
    "branch.branch_info()"
   ]
  },
  {
   "cell_type": "raw",
   "id": "eaad48df-a35b-425b-a690-f67ce000c989",
   "metadata": {},
   "source": [
    "class Xyz:\n",
    "    def method1:\n",
    "    \n",
    "class abc(Xyz):\n",
    "    \n",
    "    def method1:   \n",
    "class mno(Xyz):\n",
    "    def method2:\n",
    "    pass\n",
    "    def method 3:"
   ]
  },
  {
   "cell_type": "code",
   "execution_count": 10,
   "id": "5746a437-6782-46f9-9257-422866a4b346",
   "metadata": {},
   "outputs": [],
   "source": [
    "#example for Method overlaoding"
   ]
  },
  {
   "cell_type": "code",
   "execution_count": 11,
   "id": "84a837eb-fb7c-4567-a716-4d4ccb6d328d",
   "metadata": {},
   "outputs": [],
   "source": [
    "class Parent:\n",
    "    def show_info(self):\n",
    "        return \"THis is class a praent class\"\n",
    "class child1(Parent):\n",
    "    def show_info(slef):\n",
    "        return \"this is from child cclass\"\n",
    "class child2(Parent):\n",
    "    pass\n",
    "        "
   ]
  },
  {
   "cell_type": "code",
   "execution_count": 12,
   "id": "9435b98f-91d6-40ef-8bc1-ba5140d86bda",
   "metadata": {},
   "outputs": [
    {
     "data": {
      "text/plain": [
       "'this is from child cclass'"
      ]
     },
     "execution_count": 12,
     "metadata": {},
     "output_type": "execute_result"
    }
   ],
   "source": [
    "in1=child1()\n",
    "in1.show_info()"
   ]
  },
  {
   "cell_type": "code",
   "execution_count": 17,
   "id": "ba34bd41-f562-408c-a17b-81b4f49c7344",
   "metadata": {},
   "outputs": [],
   "source": [
    "class pritesh:\n",
    "    def show_info(self):\n",
    "        return \"he is class topper\"\n",
    "class priteshji(pritesh):\n",
    "    def show_info(self):\n",
    "        return \"He is pritesh upgraded version\"\n",
    "class ram(pritesh):\n",
    "    pass"
   ]
  },
  {
   "cell_type": "code",
   "execution_count": 19,
   "id": "f3e3635b-14b5-4df9-a67b-69aeced0fe7b",
   "metadata": {},
   "outputs": [
    {
     "data": {
      "text/plain": [
       "'He is pritesh upgraded version'"
      ]
     },
     "execution_count": 19,
     "metadata": {},
     "output_type": "execute_result"
    }
   ],
   "source": [
    "show=priteshji()\n",
    "show.show_info()"
   ]
  },
  {
   "cell_type": "code",
   "execution_count": 2,
   "id": "3f36c9d7-91a6-49cd-b9b4-e983c58de1f9",
   "metadata": {},
   "outputs": [],
   "source": [
    "class Toyota:\n",
    "    def show_info(self):\n",
    "        print( \"this is toyota\")\n",
    "class Byd:\n",
    "    def show_info(self):\n",
    "        print(\"This is byd\")\n",
    "class MG:\n",
    "    def show_info(self):\n",
    "        print(\"The brand id NG\")\n",
    "def car_info(car):\n",
    "    car.brand_info()\n",
    "car1=Toyota()\n",
    "car2=Byd()\n",
    "car3=MG()\n",
    "        "
   ]
  },
  {
   "cell_type": "raw",
   "id": "a7ca94c7-10f7-4029-a33b-40cc258cd1c8",
   "metadata": {},
   "source": [
    "car_info(car3)"
   ]
  },
  {
   "cell_type": "code",
   "execution_count": 3,
   "id": "8631f8b6-5c9a-4c12-a9b0-352251cb85fe",
   "metadata": {},
   "outputs": [],
   "source": [
    "class YAMAHA:\n",
    "    def show(self):\n",
    "        print(\"This is yamaha\")\n",
    "class TVS:\n",
    "    def show(self):\n",
    "        print(\"This is TVS\")\n",
    "class BAJAJ:\n",
    "    def show(self):\n",
    "        print(\"This is BAJAJ\")\n",
    "def bike_info(bike):\n",
    "    bike.brand_info()\n",
    "bike1=YAMAHA()\n",
    "bike2=TVS()\n",
    "bike3=BAJAJ()"
   ]
  },
  {
   "cell_type": "code",
   "execution_count": 4,
   "id": "18c4f4a7-727a-44e7-9ddb-9a0522e4a9a7",
   "metadata": {},
   "outputs": [
    {
     "ename": "AttributeError",
     "evalue": "'TVS' object has no attribute 'brand_info'",
     "output_type": "error",
     "traceback": [
      "\u001b[1;31m---------------------------------------------------------------------------\u001b[0m",
      "\u001b[1;31mAttributeError\u001b[0m                            Traceback (most recent call last)",
      "Cell \u001b[1;32mIn[4], line 1\u001b[0m\n\u001b[1;32m----> 1\u001b[0m \u001b[43mbike_info\u001b[49m\u001b[43m(\u001b[49m\u001b[43mbike2\u001b[49m\u001b[43m)\u001b[49m\n",
      "Cell \u001b[1;32mIn[3], line 11\u001b[0m, in \u001b[0;36mbike_info\u001b[1;34m(bike)\u001b[0m\n\u001b[0;32m     10\u001b[0m \u001b[38;5;28;01mdef\u001b[39;00m\u001b[38;5;250m \u001b[39m\u001b[38;5;21mbike_info\u001b[39m(bike):\n\u001b[1;32m---> 11\u001b[0m     \u001b[43mbike\u001b[49m\u001b[38;5;241;43m.\u001b[39;49m\u001b[43mbrand_info\u001b[49m()\n",
      "\u001b[1;31mAttributeError\u001b[0m: 'TVS' object has no attribute 'brand_info'"
     ]
    }
   ],
   "source": [
    "bike_info(bike2)"
   ]
  },
  {
   "cell_type": "raw",
   "id": "381c3261-9621-4e9a-860a-81cce1cdc43f",
   "metadata": {},
   "source": [
    "create a file to read a text and count the blank spaces from the text.\n",
    "write a script in python to read a file and create a dictionary of the words start with vowles and consonent.\n",
    "Write a script in python to convert two different list into a dictionary.\n",
    "WAP script in python to remove duplicate elements from test.\n",
    "Write a script to create two different list form a dictionary."
   ]
  },
  {
   "cell_type": "code",
   "execution_count": null,
   "id": "8671b477-6f8d-44c5-9e6c-def24ab0abb5",
   "metadata": {},
   "outputs": [],
   "source": [
    "!pip install pandas"
   ]
  },
  {
   "cell_type": "code",
   "execution_count": null,
   "id": "d7b462cf-f38a-45cc-8317-65fe2d7019d8",
   "metadata": {},
   "outputs": [],
   "source": []
  }
 ],
 "metadata": {
  "kernelspec": {
   "display_name": "Python 3 (ipykernel)",
   "language": "python",
   "name": "python3"
  },
  "language_info": {
   "codemirror_mode": {
    "name": "ipython",
    "version": 3
   },
   "file_extension": ".py",
   "mimetype": "text/x-python",
   "name": "python",
   "nbconvert_exporter": "python",
   "pygments_lexer": "ipython3",
   "version": "3.13.2"
  }
 },
 "nbformat": 4,
 "nbformat_minor": 5
}

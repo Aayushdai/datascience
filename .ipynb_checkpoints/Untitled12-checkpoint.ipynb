{
 "cells": [
  {
   "cell_type": "code",
   "execution_count": 1,
   "id": "22450346-c0ab-47fa-b3ef-3029cf92e048",
   "metadata": {},
   "outputs": [
    {
     "ename": "ModuleNotFoundError",
     "evalue": "No module named 'cv2'",
     "output_type": "error",
     "traceback": [
      "\u001b[1;31m---------------------------------------------------------------------------\u001b[0m",
      "\u001b[1;31mModuleNotFoundError\u001b[0m                       Traceback (most recent call last)",
      "Cell \u001b[1;32mIn[1], line 3\u001b[0m\n\u001b[0;32m      1\u001b[0m \u001b[38;5;28;01mimport\u001b[39;00m\u001b[38;5;250m \u001b[39m\u001b[38;5;21;01mnumpy\u001b[39;00m\u001b[38;5;250m \u001b[39m\u001b[38;5;28;01mas\u001b[39;00m\u001b[38;5;250m \u001b[39m\u001b[38;5;21;01mnp\u001b[39;00m\n\u001b[0;32m      2\u001b[0m \u001b[38;5;28;01mimport\u001b[39;00m\u001b[38;5;250m \u001b[39m\u001b[38;5;21;01mmatplotlib\u001b[39;00m\u001b[38;5;21;01m.\u001b[39;00m\u001b[38;5;21;01mpyplot\u001b[39;00m\u001b[38;5;250m \u001b[39m\u001b[38;5;28;01mas\u001b[39;00m\u001b[38;5;250m \u001b[39m\u001b[38;5;21;01mpts\u001b[39;00m\n\u001b[1;32m----> 3\u001b[0m \u001b[38;5;28;01mimport\u001b[39;00m\u001b[38;5;250m \u001b[39m\u001b[38;5;21;01mcv2\u001b[39;00m\n",
      "\u001b[1;31mModuleNotFoundError\u001b[0m: No module named 'cv2'"
     ]
    }
   ],
   "source": [
    "import numpy as np\n",
    "import matplotlib.pyplot as pts\n",
    "import cv2"
   ]
  },
  {
   "cell_type": "code",
   "execution_count": 2,
   "id": "f07fc7f5-cf12-47e9-b04b-218119b711dc",
   "metadata": {},
   "outputs": [],
   "source": [
    "from sklearn.cluster import KMeans"
   ]
  },
  {
   "cell_type": "code",
   "execution_count": 4,
   "id": "3ca10a2a-a508-4483-abe5-bda47462b7a6",
   "metadata": {},
   "outputs": [
    {
     "ename": "ModuleNotFoundError",
     "evalue": "No module named 'ipywidgets'",
     "output_type": "error",
     "traceback": [
      "\u001b[1;31m---------------------------------------------------------------------------\u001b[0m",
      "\u001b[1;31mModuleNotFoundError\u001b[0m                       Traceback (most recent call last)",
      "Cell \u001b[1;32mIn[4], line 1\u001b[0m\n\u001b[1;32m----> 1\u001b[0m \u001b[38;5;28;01mfrom\u001b[39;00m\u001b[38;5;250m \u001b[39m\u001b[38;5;21;01mipywidgets\u001b[39;00m\u001b[38;5;250m \u001b[39m\u001b[38;5;28;01mimport\u001b[39;00m FileUpload\n\u001b[0;32m      2\u001b[0m \u001b[38;5;28;01mfrom\u001b[39;00m\u001b[38;5;250m \u001b[39m\u001b[38;5;21;01mIPython\u001b[39;00m\u001b[38;5;21;01m.\u001b[39;00m\u001b[38;5;21;01mdispaly\u001b[39;00m\u001b[38;5;250m \u001b[39m\u001b[38;5;28;01mimport\u001b[39;00m display\n\u001b[0;32m      3\u001b[0m \u001b[38;5;28;01mimport\u001b[39;00m\u001b[38;5;250m \u001b[39m\u001b[38;5;21;01moi\u001b[39;00m\n",
      "\u001b[1;31mModuleNotFoundError\u001b[0m: No module named 'ipywidgets'"
     ]
    }
   ],
   "source": [
    "from ipywidgets import FileUpload\n",
    "from IPython.dispaly import display\n",
    "import oi\n",
    "from PIL import Image as PILimage"
   ]
  },
  {
   "cell_type": "code",
   "execution_count": 5,
   "id": "b7b7a1f0-b599-44fd-ba6b-0950bce9cbbb",
   "metadata": {},
   "outputs": [
    {
     "ename": "NameError",
     "evalue": "name 'FileUpload' is not defined",
     "output_type": "error",
     "traceback": [
      "\u001b[1;31m---------------------------------------------------------------------------\u001b[0m",
      "\u001b[1;31mNameError\u001b[0m                                 Traceback (most recent call last)",
      "Cell \u001b[1;32mIn[5], line 2\u001b[0m\n\u001b[0;32m      1\u001b[0m \u001b[38;5;66;03m#step1:upload file\u001b[39;00m\n\u001b[1;32m----> 2\u001b[0m image_file \u001b[38;5;241m=\u001b[39m \u001b[43mFileUpload\u001b[49m(accept\u001b[38;5;241m=\u001b[39m\u001b[38;5;124m'\u001b[39m\u001b[38;5;124mimage/*\u001b[39m\u001b[38;5;124m'\u001b[39m,multiple\u001b[38;5;241m=\u001b[39m\u001b[38;5;28;01mFalse\u001b[39;00m)\n\u001b[0;32m      3\u001b[0m dispaly(image_File)\n",
      "\u001b[1;31mNameError\u001b[0m: name 'FileUpload' is not defined"
     ]
    }
   ],
   "source": [
    "#step1:upload file\n",
    "image_file = FileUpload(accept='image/*',multiple=False)\n",
    "dispaly(image_File)"
   ]
  },
  {
   "cell_type": "code",
   "execution_count": 6,
   "id": "57c86a91-f129-4dcc-b629-9bac8dd00962",
   "metadata": {},
   "outputs": [],
   "source": [
    "def image_process(image_File):\n",
    "    for fileinfo in image_file.value:\n",
    "        img_bytes=io.BytesID(Fileinfo['content'])\n",
    "        image=PILImage.open(img_bytes).convert(\"RGB\")\n",
    "        dispaly[image]\n",
    "        image_array=np.array(image)\n",
    "\n",
    "        print(\"Image shape:\",image_array.shape)\n",
    "        print(\"Image dtype:\",image_array.dispaly)\n",
    "        return image_array"
   ]
  },
  {
   "cell_type": "code",
   "execution_count": 8,
   "id": "b8a7a4ba-e798-4d1e-97da-b04bcc8ace4c",
   "metadata": {},
   "outputs": [
    {
     "ename": "NameError",
     "evalue": "name 'image_array' is not defined",
     "output_type": "error",
     "traceback": [
      "\u001b[1;31m---------------------------------------------------------------------------\u001b[0m",
      "\u001b[1;31mNameError\u001b[0m                                 Traceback (most recent call last)",
      "Cell \u001b[1;32mIn[8], line 2\u001b[0m\n\u001b[0;32m      1\u001b[0m \u001b[38;5;66;03m#rreshaping iamge array\u001b[39;00m\n\u001b[1;32m----> 2\u001b[0m image_reshape\u001b[38;5;241m=\u001b[39m\u001b[43mimage_array\u001b[49m\u001b[38;5;241m.\u001b[39mreshape(\u001b[38;5;241m-\u001b[39m\u001b[38;5;241m1\u001b[39m,\u001b[38;5;241m3\u001b[39m)\n\u001b[0;32m      3\u001b[0m image_reshape\n",
      "\u001b[1;31mNameError\u001b[0m: name 'image_array' is not defined"
     ]
    }
   ],
   "source": [
    "#rreshaping iamge array\n",
    "image_reshape=image_array.reshape(-1,3)\n",
    "image_reshape"
   ]
  },
  {
   "cell_type": "code",
   "execution_count": 9,
   "id": "d281053f-6933-4ae1-978b-3e5cd9f6e9e6",
   "metadata": {},
   "outputs": [
    {
     "ename": "NameError",
     "evalue": "name 'KHeans' is not defined",
     "output_type": "error",
     "traceback": [
      "\u001b[1;31m---------------------------------------------------------------------------\u001b[0m",
      "\u001b[1;31mNameError\u001b[0m                                 Traceback (most recent call last)",
      "Cell \u001b[1;32mIn[9], line 3\u001b[0m\n\u001b[0;32m      1\u001b[0m inerties\u001b[38;5;241m=\u001b[39m[]\n\u001b[0;32m      2\u001b[0m \u001b[38;5;28;01mfor\u001b[39;00m k \u001b[38;5;129;01min\u001b[39;00m \u001b[38;5;28mrange\u001b[39m(\u001b[38;5;241m1\u001b[39m,\u001b[38;5;241m11\u001b[39m):\n\u001b[1;32m----> 3\u001b[0m     kmeans\u001b[38;5;241m=\u001b[39m\u001b[43mKHeans\u001b[49m(n_clususter)\u001b[38;5;241m.\u001b[39mfit(image_reshape)\n\u001b[0;32m      4\u001b[0m     inerties\u001b[38;5;241m.\u001b[39mappend(kmeans\u001b[38;5;241m.\u001b[39minertia_)\n\u001b[0;32m      6\u001b[0m plt\u001b[38;5;241m.\u001b[39mplot(\u001b[38;5;28mrange\u001b[39m(\u001b[38;5;241m1\u001b[39m,\u001b[38;5;241m11\u001b[39m),inertia,marker\u001b[38;5;241m=\u001b[39m\u001b[38;5;124m'\u001b[39m\u001b[38;5;124mo\u001b[39m\u001b[38;5;124m'\u001b[39m)\n",
      "\u001b[1;31mNameError\u001b[0m: name 'KHeans' is not defined"
     ]
    }
   ],
   "source": [
    "inerties=[]\n",
    "for k in range(1,11):\n",
    "    kmeans=KHeans(n_clususter).fit(image_reshape)\n",
    "    inerties.append(kmeans.inertia_)\n",
    "\n",
    "plt.plot(range(1,11),inertia,marker='o')\n",
    "plt.xlabel('Number of Cluster')\n",
    "plt.ylabel('Inertia')\n",
    "plt.title('Elbow MEthod')\n",
    "plt.grid()\n",
    "plt.show()"
   ]
  },
  {
   "cell_type": "code",
   "execution_count": 10,
   "id": "303e3fca-f5b5-49ea-953d-ca6c5a6653f1",
   "metadata": {},
   "outputs": [
    {
     "ename": "NameError",
     "evalue": "name 'image_reshape' is not defined",
     "output_type": "error",
     "traceback": [
      "\u001b[1;31m---------------------------------------------------------------------------\u001b[0m",
      "\u001b[1;31mNameError\u001b[0m                                 Traceback (most recent call last)",
      "Cell \u001b[1;32mIn[10], line 3\u001b[0m\n\u001b[0;32m      1\u001b[0m \u001b[38;5;66;03m#Apply k-means clustering\u001b[39;00m\n\u001b[0;32m      2\u001b[0m kmeans \u001b[38;5;241m=\u001b[39m KMeans(n_clusters\u001b[38;5;241m=\u001b[39m\u001b[38;5;241m4\u001b[39m)\n\u001b[1;32m----> 3\u001b[0m kmeans\u001b[38;5;241m.\u001b[39mfit(\u001b[43mimage_reshape\u001b[49m)\n\u001b[0;32m      5\u001b[0m \u001b[38;5;66;03m#Get the cluster centers (dominant colors)\u001b[39;00m\n\u001b[0;32m      6\u001b[0m dominant_colors \u001b[38;5;241m=\u001b[39m kmeans\u001b[38;5;241m.\u001b[39mcluster_centers_\u001b[38;5;241m.\u001b[39mastype(\u001b[38;5;28mint\u001b[39m)\n",
      "\u001b[1;31mNameError\u001b[0m: name 'image_reshape' is not defined"
     ]
    }
   ],
   "source": [
    "#Apply k-means clustering\n",
    "kmeans = KMeans(n_clusters=4)\n",
    "kmeans.fit(image_reshape)\n",
    "\n",
    "#Get the cluster centers (dominant colors)\n",
    "dominant_colors = kmeans.cluster_centers_.astype(int)\n",
    "\n",
    "#Optionally recreate a clustered image\n",
    "labels = kmeans.labels_\n",
    "clustered_img = dominant_colors[labels].reshape(image_array.shape)\n",
    "#show the result\n",
    "plt.inshow(clustered_img.astype('uints'))\n",
    "plt.axis('off')\n",
    "plt.show()"
   ]
  },
  {
   "cell_type": "code",
   "execution_count": null,
   "id": "e41b8c9c-f785-4f93-8095-a9b4834715e8",
   "metadata": {},
   "outputs": [],
   "source": []
  }
 ],
 "metadata": {
  "kernelspec": {
   "display_name": "Python 3 (ipykernel)",
   "language": "python",
   "name": "python3"
  },
  "language_info": {
   "codemirror_mode": {
    "name": "ipython",
    "version": 3
   },
   "file_extension": ".py",
   "mimetype": "text/x-python",
   "name": "python",
   "nbconvert_exporter": "python",
   "pygments_lexer": "ipython3",
   "version": "3.13.2"
  }
 },
 "nbformat": 4,
 "nbformat_minor": 5
}

{
 "cells": [
  {
   "cell_type": "code",
   "execution_count": 11,
   "id": "43a6871a-5a9c-4fa9-a4a7-f4f7f7b651e2",
   "metadata": {},
   "outputs": [],
   "source": [
    "def prime(n):\n",
    " if(n<=2):\n",
    "    return False\n",
    " for i in range(2,n):\n",
    "    if(n%i==0):\n",
    "        return False\n",
    " return True\n",
    "    \n"
   ]
  },
  {
   "cell_type": "code",
   "execution_count": 13,
   "id": "7dda5cf7-699b-4037-bad0-5c28863ffbfd",
   "metadata": {},
   "outputs": [
    {
     "data": {
      "text/plain": [
       "False"
      ]
     },
     "execution_count": 13,
     "metadata": {},
     "output_type": "execute_result"
    }
   ],
   "source": [
    "prime(9)"
   ]
  },
  {
   "cell_type": "code",
   "execution_count": 19,
   "id": "efd26ff4-7c92-48df-aba3-e387fd453145",
   "metadata": {},
   "outputs": [],
   "source": [
    "def fac(n):\n",
    "    if(n==0):\n",
    "        return 1\n",
    "    else:\n",
    "        return (n*fac(n-1))\n",
    "        "
   ]
  },
  {
   "cell_type": "code",
   "execution_count": 21,
   "id": "85319a60-6f50-49df-8b71-7deef2b3118a",
   "metadata": {},
   "outputs": [
    {
     "data": {
      "text/plain": [
       "120"
      ]
     },
     "execution_count": 21,
     "metadata": {},
     "output_type": "execute_result"
    }
   ],
   "source": [
    "fac(5)"
   ]
  },
  {
   "cell_type": "code",
   "execution_count": 51,
   "id": "98f34d08-35c9-4060-b137-d1495463b24b",
   "metadata": {},
   "outputs": [],
   "source": [
    "def vowel(n):\n",
    "    count=0\n",
    "    v='aeiouAEIOU'\n",
    "    for i in n:\n",
    "        for char in vowel:\n",
    "            count+=1\n",
    "    return count"
   ]
  },
  {
   "cell_type": "code",
   "execution_count": 53,
   "id": "622059ff-8f18-4628-85c3-1703999aab8b",
   "metadata": {},
   "outputs": [
    {
     "name": "stdout",
     "output_type": "stream",
     "text": [
      "12\n"
     ]
    }
   ],
   "source": [
    "n='jsihadsfihasoiiiiiii'\n",
    "a=vowel_count(n)\n",
    "print(a)"
   ]
  },
  {
   "cell_type": "code",
   "execution_count": null,
   "id": "de7660a2-b214-41ab-a04b-d09916d4e3d3",
   "metadata": {},
   "outputs": [],
   "source": [
    "def reverse(n)"
   ]
  }
 ],
 "metadata": {
  "kernelspec": {
   "display_name": "Python 3 (ipykernel)",
   "language": "python",
   "name": "python3"
  },
  "language_info": {
   "codemirror_mode": {
    "name": "ipython",
    "version": 3
   },
   "file_extension": ".py",
   "mimetype": "text/x-python",
   "name": "python",
   "nbconvert_exporter": "python",
   "pygments_lexer": "ipython3",
   "version": "3.13.2"
  }
 },
 "nbformat": 4,
 "nbformat_minor": 5
}

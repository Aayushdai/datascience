{
 "cells": [
  {
   "cell_type": "markdown",
   "id": "2d302926-73f7-41f3-aae2-e2cced8e9c9e",
   "metadata": {},
   "source": [
    "# NUMPY"
   ]
  },
  {
   "cell_type": "raw",
   "id": "f77dd85c-113e-43d0-a669-3e06e05f36ef",
   "metadata": {},
   "source": [
    "#creating array\n",
    "np.array()\n",
    "np.arrange()\n",
    "np.zeros()\n",
    "np.full()\n",
    "np.one()\n",
    "np.linspace()"
   ]
  },
  {
   "cell_type": "markdown",
   "id": "4c3407f9-6d16-4a6c-82da-dfd1087a3952",
   "metadata": {},
   "source": [
    "# Creating Array"
   ]
  },
  {
   "cell_type": "code",
   "execution_count": 2,
   "id": "8bc7aa70-0975-4b79-9140-bc9867e5f405",
   "metadata": {},
   "outputs": [],
   "source": [
    "#np.array()\n",
    "#it is used to create array eith list,tuples, or set\n",
    "import numpy as np\n",
    "x=[1,2,3,4]"
   ]
  },
  {
   "cell_type": "code",
   "execution_count": 3,
   "id": "678a82c8-1e6c-45fb-9221-dff211dee1fd",
   "metadata": {},
   "outputs": [
    {
     "data": {
      "text/plain": [
       "array([1, 2, 3, 4])"
      ]
     },
     "execution_count": 3,
     "metadata": {},
     "output_type": "execute_result"
    }
   ],
   "source": [
    "x_array=np.array(x)\n",
    "x_array"
   ]
  },
  {
   "cell_type": "code",
   "execution_count": 4,
   "id": "d3f04cac-c597-4635-b424-fac1e90d8793",
   "metadata": {},
   "outputs": [],
   "source": [
    "y=[2,3,4,5]"
   ]
  },
  {
   "cell_type": "code",
   "execution_count": 6,
   "id": "75de8176-c90d-44c2-82d1-c3de0f6e8df6",
   "metadata": {},
   "outputs": [
    {
     "data": {
      "text/plain": [
       "array([[1, 2, 3, 4],\n",
       "       [2, 3, 4, 5]])"
      ]
     },
     "execution_count": 6,
     "metadata": {},
     "output_type": "execute_result"
    }
   ],
   "source": [
    "np.array([x,y])"
   ]
  },
  {
   "cell_type": "code",
   "execution_count": 8,
   "id": "6aad111c-99b5-416f-87c3-b41414927570",
   "metadata": {},
   "outputs": [
    {
     "data": {
      "text/plain": [
       "array([0, 1, 2, 3, 4])"
      ]
     },
     "execution_count": 8,
     "metadata": {},
     "output_type": "execute_result"
    }
   ],
   "source": [
    "#np.arrange()\n",
    "np.arange(5)"
   ]
  },
  {
   "cell_type": "code",
   "execution_count": 9,
   "id": "c6204564-5a99-4d61-9c87-0911f9b9ddbf",
   "metadata": {},
   "outputs": [
    {
     "data": {
      "text/plain": [
       "array([1, 2, 3, 4, 5, 6, 7, 8, 9])"
      ]
     },
     "execution_count": 9,
     "metadata": {},
     "output_type": "execute_result"
    }
   ],
   "source": [
    "np.arange(1,10)"
   ]
  },
  {
   "cell_type": "code",
   "execution_count": 11,
   "id": "9a468e8e-d6bf-4060-9de1-b3f516347fa3",
   "metadata": {},
   "outputs": [
    {
     "data": {
      "text/plain": [
       "array([ 1,  4,  7, 10, 13, 16, 19])"
      ]
     },
     "execution_count": 11,
     "metadata": {},
     "output_type": "execute_result"
    }
   ],
   "source": [
    "# 1 to 20 with 3 steps\n",
    "np.arange(1,20,3)"
   ]
  },
  {
   "cell_type": "code",
   "execution_count": 14,
   "id": "56ef5f26-2d6c-403f-999b-ff1b95a91c44",
   "metadata": {},
   "outputs": [
    {
     "data": {
      "text/plain": [
       "array([1., 1., 1., 1., 1.])"
      ]
     },
     "execution_count": 14,
     "metadata": {},
     "output_type": "execute_result"
    }
   ],
   "source": [
    "np.ones(5)"
   ]
  },
  {
   "cell_type": "code",
   "execution_count": 17,
   "id": "520da0c6-7e1f-4186-9272-dbb61ec3b1dc",
   "metadata": {},
   "outputs": [
    {
     "data": {
      "text/plain": [
       "array([[1., 1., 1., 1.],\n",
       "       [1., 1., 1., 1.],\n",
       "       [1., 1., 1., 1.],\n",
       "       [1., 1., 1., 1.]])"
      ]
     },
     "execution_count": 17,
     "metadata": {},
     "output_type": "execute_result"
    }
   ],
   "source": [
    "np.ones([4,4])# create 4dimension 4*4"
   ]
  },
  {
   "cell_type": "code",
   "execution_count": 18,
   "id": "9fe34528-22fe-4bc3-ac3f-3f4b0036ed70",
   "metadata": {},
   "outputs": [
    {
     "data": {
      "text/plain": [
       "array([0., 0., 0., 0., 0.])"
      ]
     },
     "execution_count": 18,
     "metadata": {},
     "output_type": "execute_result"
    }
   ],
   "source": [
    "#np.zeros()\n",
    "np.zeros(5)"
   ]
  },
  {
   "cell_type": "code",
   "execution_count": 20,
   "id": "85ad5547-f825-4b13-b92f-1a4b1c527b46",
   "metadata": {},
   "outputs": [
    {
     "data": {
      "text/plain": [
       "array([[0., 0., 0., 0.],\n",
       "       [0., 0., 0., 0.]])"
      ]
     },
     "execution_count": 20,
     "metadata": {},
     "output_type": "execute_result"
    }
   ],
   "source": [
    "#Create 2dimension with 3*4 array\n",
    "np.zeros([2,4])"
   ]
  },
  {
   "cell_type": "code",
   "execution_count": 21,
   "id": "a8c49654-d2ae-4729-ae50-6d09dbaf4d49",
   "metadata": {},
   "outputs": [
    {
     "data": {
      "text/plain": [
       "array([5, 5, 5, 5, 5, 5, 5, 5, 5, 5, 5, 5, 5])"
      ]
     },
     "execution_count": 21,
     "metadata": {},
     "output_type": "execute_result"
    }
   ],
   "source": [
    "#np.full()\n",
    "np.full(13,5)"
   ]
  },
  {
   "cell_type": "code",
   "execution_count": 22,
   "id": "2399f51b-59e4-4f98-b5e5-22dcc4163cfe",
   "metadata": {},
   "outputs": [
    {
     "data": {
      "text/plain": [
       "array([['hello', 'hello', 'hello'],\n",
       "       ['hello', 'hello', 'hello']], dtype='<U5')"
      ]
     },
     "execution_count": 22,
     "metadata": {},
     "output_type": "execute_result"
    }
   ],
   "source": [
    "np.full((2,3),'hello')"
   ]
  },
  {
   "cell_type": "code",
   "execution_count": 23,
   "id": "58743e57-8980-4db8-a151-8cbd672e46d0",
   "metadata": {},
   "outputs": [
    {
     "data": {
      "text/plain": [
       "array([[5, 5, 5],\n",
       "       [5, 5, 5]])"
      ]
     },
     "execution_count": 23,
     "metadata": {},
     "output_type": "execute_result"
    }
   ],
   "source": [
    "np.full((2,3),5)"
   ]
  },
  {
   "cell_type": "code",
   "execution_count": 25,
   "id": "bf599e07-83f6-4ee6-a885-4edbb4b4f17f",
   "metadata": {},
   "outputs": [
    {
     "data": {
      "text/plain": [
       "array([ 1.        ,  1.18367347,  1.36734694,  1.55102041,  1.73469388,\n",
       "        1.91836735,  2.10204082,  2.28571429,  2.46938776,  2.65306122,\n",
       "        2.83673469,  3.02040816,  3.20408163,  3.3877551 ,  3.57142857,\n",
       "        3.75510204,  3.93877551,  4.12244898,  4.30612245,  4.48979592,\n",
       "        4.67346939,  4.85714286,  5.04081633,  5.2244898 ,  5.40816327,\n",
       "        5.59183673,  5.7755102 ,  5.95918367,  6.14285714,  6.32653061,\n",
       "        6.51020408,  6.69387755,  6.87755102,  7.06122449,  7.24489796,\n",
       "        7.42857143,  7.6122449 ,  7.79591837,  7.97959184,  8.16326531,\n",
       "        8.34693878,  8.53061224,  8.71428571,  8.89795918,  9.08163265,\n",
       "        9.26530612,  9.44897959,  9.63265306,  9.81632653, 10.        ])"
      ]
     },
     "execution_count": 25,
     "metadata": {},
     "output_type": "execute_result"
    }
   ],
   "source": [
    "#np.linspace()\n",
    "np.linspace(1,10,50)"
   ]
  },
  {
   "cell_type": "markdown",
   "id": "006ad70c-1e13-4574-8f20-e789b8225d87",
   "metadata": {},
   "source": [
    "# Attributes of array"
   ]
  },
  {
   "cell_type": "raw",
   "id": "9e7fc449-9fba-4004-9313-6b01feb83bb9",
   "metadata": {},
   "source": [
    "shape\n",
    "size\n",
    "ndim()-number of dimension"
   ]
  },
  {
   "cell_type": "code",
   "execution_count": 26,
   "id": "212fa414-0f82-4b3d-89b0-b60ef9f32d57",
   "metadata": {},
   "outputs": [
    {
     "data": {
      "text/plain": [
       "array([[13, 13, 13, 13, 13, 13],\n",
       "       [13, 13, 13, 13, 13, 13],\n",
       "       [13, 13, 13, 13, 13, 13],\n",
       "       [13, 13, 13, 13, 13, 13],\n",
       "       [13, 13, 13, 13, 13, 13]])"
      ]
     },
     "execution_count": 26,
     "metadata": {},
     "output_type": "execute_result"
    }
   ],
   "source": [
    "demo=np.full((5,6),13)\n",
    "demo\n"
   ]
  },
  {
   "cell_type": "code",
   "execution_count": 27,
   "id": "0134e26d-2634-401c-9d6f-49ed2be37bc8",
   "metadata": {},
   "outputs": [
    {
     "data": {
      "text/plain": [
       "(5, 6)"
      ]
     },
     "execution_count": 27,
     "metadata": {},
     "output_type": "execute_result"
    }
   ],
   "source": [
    "demo.shape# returns number of rows and colums"
   ]
  },
  {
   "cell_type": "code",
   "execution_count": 28,
   "id": "9a3dd8c5-15aa-41cb-9914-7a0db9cfc54d",
   "metadata": {},
   "outputs": [
    {
     "data": {
      "text/plain": [
       "30"
      ]
     },
     "execution_count": 28,
     "metadata": {},
     "output_type": "execute_result"
    }
   ],
   "source": [
    "#sizze 0returns the number if elements i.e product of row and colum\n",
    "demo.size"
   ]
  },
  {
   "cell_type": "code",
   "execution_count": 29,
   "id": "86d5e625-2e9b-42e9-b0b1-3512d837e4d7",
   "metadata": {},
   "outputs": [
    {
     "data": {
      "text/plain": [
       "2"
      ]
     },
     "execution_count": 29,
     "metadata": {},
     "output_type": "execute_result"
    }
   ],
   "source": [
    "#ndim - returns the number of dimension\n",
    "demo.ndim"
   ]
  },
  {
   "cell_type": "markdown",
   "id": "142a655a-e890-40eb-98b3-378b0d843c60",
   "metadata": {},
   "source": [
    "# Reshaping and Resizing array"
   ]
  },
  {
   "cell_type": "code",
   "execution_count": 39,
   "id": "053fb1e3-756f-4006-8198-d782001db707",
   "metadata": {},
   "outputs": [],
   "source": [
    "x=list(range(2,6))"
   ]
  },
  {
   "cell_type": "code",
   "execution_count": 37,
   "id": "42e01937-fa16-4f98-81b8-62299419f8ea",
   "metadata": {},
   "outputs": [],
   "source": [
    "y=list(range(3,7))\n",
    "z=list(range(4,8))"
   ]
  },
  {
   "cell_type": "code",
   "execution_count": 41,
   "id": "72be8619-58fe-4b64-953d-1366f536ee7c",
   "metadata": {},
   "outputs": [
    {
     "data": {
      "text/plain": [
       "array([[2, 3, 4, 5],\n",
       "       [3, 4, 5, 6],\n",
       "       [4, 5, 6, 7]])"
      ]
     },
     "execution_count": 41,
     "metadata": {},
     "output_type": "execute_result"
    }
   ],
   "source": [
    "dx=np.array([x,y,z])\n",
    "dx"
   ]
  },
  {
   "cell_type": "code",
   "execution_count": 42,
   "id": "5359986e-b74b-4736-8e00-a1cb0b28fce8",
   "metadata": {},
   "outputs": [
    {
     "data": {
      "text/plain": [
       "(3, 4)"
      ]
     },
     "execution_count": 42,
     "metadata": {},
     "output_type": "execute_result"
    }
   ],
   "source": [
    "dx.shape"
   ]
  },
  {
   "cell_type": "code",
   "execution_count": 43,
   "id": "150e4e6a-7138-4462-ac12-ec9c017b8516",
   "metadata": {},
   "outputs": [
    {
     "data": {
      "text/plain": [
       "array([[2, 3],\n",
       "       [4, 5],\n",
       "       [3, 4],\n",
       "       [5, 6],\n",
       "       [4, 5],\n",
       "       [6, 7]])"
      ]
     },
     "execution_count": 43,
     "metadata": {},
     "output_type": "execute_result"
    }
   ],
   "source": [
    "dx.reshape(6,2)"
   ]
  },
  {
   "cell_type": "markdown",
   "id": "bec427cc-d608-4cc2-b8ed-b9be9ec92074",
   "metadata": {},
   "source": [
    "# Resize"
   ]
  },
  {
   "cell_type": "code",
   "execution_count": 44,
   "id": "7f4f8713-7087-4bac-a0f7-94fd88210183",
   "metadata": {},
   "outputs": [
    {
     "data": {
      "text/plain": [
       "array([[2, 3, 4, 5],\n",
       "       [3, 4, 5, 6],\n",
       "       [4, 5, 6, 7],\n",
       "       [2, 3, 4, 5]])"
      ]
     },
     "execution_count": 44,
     "metadata": {},
     "output_type": "execute_result"
    }
   ],
   "source": [
    "np.resize(dx,(4,4))"
   ]
  },
  {
   "cell_type": "markdown",
   "id": "88305eb6-5214-4a8b-91f6-e8c6cc55e36f",
   "metadata": {},
   "source": [
    "# Adding and Removing Dimension"
   ]
  },
  {
   "cell_type": "code",
   "execution_count": 45,
   "id": "40da78e9-5102-4972-9abf-e01af011b159",
   "metadata": {},
   "outputs": [
    {
     "data": {
      "text/plain": [
       "array([[2, 3, 4, 5],\n",
       "       [3, 4, 5, 6],\n",
       "       [4, 5, 6, 7]])"
      ]
     },
     "execution_count": 45,
     "metadata": {},
     "output_type": "execute_result"
    }
   ],
   "source": [
    "#create 2 d\n",
    "dx"
   ]
  },
  {
   "cell_type": "code",
   "execution_count": 46,
   "id": "40aeba81-a5ec-4897-bf8a-55732dad51b6",
   "metadata": {},
   "outputs": [
    {
     "data": {
      "text/plain": [
       "array([2, 3, 4, 5, 3, 4, 5, 6, 4, 5, 6, 7])"
      ]
     },
     "execution_count": 46,
     "metadata": {},
     "output_type": "execute_result"
    }
   ],
   "source": [
    "#covert into 1 d\n",
    "dx.flatten()"
   ]
  },
  {
   "cell_type": "code",
   "execution_count": 50,
   "id": "e89b7d28-7463-4697-bd4b-4362313135e6",
   "metadata": {},
   "outputs": [
    {
     "data": {
      "text/plain": [
       "array([[[2, 3, 4, 5]],\n",
       "\n",
       "       [[3, 4, 5, 6]],\n",
       "\n",
       "       [[4, 5, 6, 7]]])"
      ]
     },
     "execution_count": 50,
     "metadata": {},
     "output_type": "execute_result"
    }
   ],
   "source": [
    "# Convert 2d to 3d\n",
    "#expand dims\n",
    "dx_3d=np.expand_dims(dx,axis=1)\n",
    "dx_3d"
   ]
  },
  {
   "cell_type": "code",
   "execution_count": 48,
   "id": "3e187f8e-b4ad-449b-b9b9-1904e7883b7f",
   "metadata": {},
   "outputs": [
    {
     "data": {
      "text/plain": [
       "array([[[2, 3, 4, 5],\n",
       "        [3, 4, 5, 6],\n",
       "        [4, 5, 6, 7]]])"
      ]
     },
     "execution_count": 48,
     "metadata": {},
     "output_type": "execute_result"
    }
   ],
   "source": [
    "np.expand_dims(dx,axis=0)"
   ]
  },
  {
   "cell_type": "code",
   "execution_count": 51,
   "id": "b5c5bf89-ff4a-4462-a1a2-691c9484a7ad",
   "metadata": {},
   "outputs": [],
   "source": [
    "#convert 3 d to 2 d\n",
    "#squeeze"
   ]
  },
  {
   "cell_type": "code",
   "execution_count": 52,
   "id": "f77fe6a1-2a6b-447a-a500-1965b2ff69ce",
   "metadata": {},
   "outputs": [
    {
     "data": {
      "text/plain": [
       "array([[2, 3, 4, 5],\n",
       "       [3, 4, 5, 6],\n",
       "       [4, 5, 6, 7]])"
      ]
     },
     "execution_count": 52,
     "metadata": {},
     "output_type": "execute_result"
    }
   ],
   "source": [
    "np.squeeze(dx_3d)"
   ]
  },
  {
   "cell_type": "code",
   "execution_count": 53,
   "id": "ff788b1b-be44-493b-a84a-adce6cd94a6d",
   "metadata": {},
   "outputs": [
    {
     "data": {
      "text/plain": [
       "(3, 1, 4)"
      ]
     },
     "execution_count": 53,
     "metadata": {},
     "output_type": "execute_result"
    }
   ],
   "source": [
    "dx_3d.shape"
   ]
  },
  {
   "cell_type": "markdown",
   "id": "7659a682-099d-45f2-80f8-b38cd9c4acda",
   "metadata": {},
   "source": [
    "# Stacking the Array"
   ]
  },
  {
   "cell_type": "raw",
   "id": "dd003c25-61f2-431d-bb91-4330fee3ce45",
   "metadata": {},
   "source": [
    "vstack\n",
    "hstack\n",
    "stack"
   ]
  },
  {
   "cell_type": "code",
   "execution_count": 54,
   "id": "5febb023-79f3-4fa5-a81f-07f95da28c1e",
   "metadata": {},
   "outputs": [
    {
     "data": {
      "text/plain": [
       "array([[5, 5, 5, 5],\n",
       "       [5, 5, 5, 5],\n",
       "       [5, 5, 5, 5]])"
      ]
     },
     "execution_count": 54,
     "metadata": {},
     "output_type": "execute_result"
    }
   ],
   "source": [
    "dx=np.full((3,4),5)\n",
    "dx"
   ]
  },
  {
   "cell_type": "code",
   "execution_count": 55,
   "id": "86928d60-7b14-47e5-a8ca-7604bd3703e5",
   "metadata": {},
   "outputs": [
    {
     "data": {
      "text/plain": [
       "array([[6, 6, 6],\n",
       "       [6, 6, 6],\n",
       "       [6, 6, 6],\n",
       "       [6, 6, 6]])"
      ]
     },
     "execution_count": 55,
     "metadata": {},
     "output_type": "execute_result"
    }
   ],
   "source": [
    "dy=np.full((4,3),6)\n",
    "dy"
   ]
  },
  {
   "cell_type": "code",
   "execution_count": 56,
   "id": "f1f61122-c5cb-4b96-ac48-9465ab56978b",
   "metadata": {},
   "outputs": [
    {
     "ename": "ValueError",
     "evalue": "all the input array dimensions except for the concatenation axis must match exactly, but along dimension 1, the array at index 0 has size 4 and the array at index 1 has size 3",
     "output_type": "error",
     "traceback": [
      "\u001b[1;31m---------------------------------------------------------------------------\u001b[0m",
      "\u001b[1;31mValueError\u001b[0m                                Traceback (most recent call last)",
      "Cell \u001b[1;32mIn[56], line 1\u001b[0m\n\u001b[1;32m----> 1\u001b[0m \u001b[43mnp\u001b[49m\u001b[38;5;241;43m.\u001b[39;49m\u001b[43mvstack\u001b[49m\u001b[43m(\u001b[49m\u001b[43m[\u001b[49m\u001b[43mdx\u001b[49m\u001b[43m,\u001b[49m\u001b[43mdy\u001b[49m\u001b[43m]\u001b[49m\u001b[43m)\u001b[49m\n",
      "File \u001b[1;32mE:\\datascience\\venv\\Lib\\site-packages\\numpy\\_core\\shape_base.py:292\u001b[0m, in \u001b[0;36mvstack\u001b[1;34m(tup, dtype, casting)\u001b[0m\n\u001b[0;32m    290\u001b[0m \u001b[38;5;28;01mif\u001b[39;00m \u001b[38;5;129;01mnot\u001b[39;00m \u001b[38;5;28misinstance\u001b[39m(arrs, \u001b[38;5;28mtuple\u001b[39m):\n\u001b[0;32m    291\u001b[0m     arrs \u001b[38;5;241m=\u001b[39m (arrs,)\n\u001b[1;32m--> 292\u001b[0m \u001b[38;5;28;01mreturn\u001b[39;00m \u001b[43m_nx\u001b[49m\u001b[38;5;241;43m.\u001b[39;49m\u001b[43mconcatenate\u001b[49m\u001b[43m(\u001b[49m\u001b[43marrs\u001b[49m\u001b[43m,\u001b[49m\u001b[43m \u001b[49m\u001b[38;5;241;43m0\u001b[39;49m\u001b[43m,\u001b[49m\u001b[43m \u001b[49m\u001b[43mdtype\u001b[49m\u001b[38;5;241;43m=\u001b[39;49m\u001b[43mdtype\u001b[49m\u001b[43m,\u001b[49m\u001b[43m \u001b[49m\u001b[43mcasting\u001b[49m\u001b[38;5;241;43m=\u001b[39;49m\u001b[43mcasting\u001b[49m\u001b[43m)\u001b[49m\n",
      "\u001b[1;31mValueError\u001b[0m: all the input array dimensions except for the concatenation axis must match exactly, but along dimension 1, the array at index 0 has size 4 and the array at index 1 has size 3"
     ]
    }
   ],
   "source": [
    "np.vstack([dx,dy])"
   ]
  },
  {
   "cell_type": "code",
   "execution_count": 57,
   "id": "7f188cc0-3ba3-4022-acab-4dc0c02083a3",
   "metadata": {},
   "outputs": [
    {
     "data": {
      "text/plain": [
       "(3, 4)"
      ]
     },
     "execution_count": 57,
     "metadata": {},
     "output_type": "execute_result"
    }
   ],
   "source": [
    "dx.shape"
   ]
  },
  {
   "cell_type": "code",
   "execution_count": 58,
   "id": "c86318fe-babe-4ff3-a010-fa2810840f70",
   "metadata": {},
   "outputs": [
    {
     "data": {
      "text/plain": [
       "(4, 3)"
      ]
     },
     "execution_count": 58,
     "metadata": {},
     "output_type": "execute_result"
    }
   ],
   "source": [
    "dy.shape"
   ]
  },
  {
   "cell_type": "code",
   "execution_count": 60,
   "id": "c474708c-0de8-4fe4-bb80-4a1165a3c8bd",
   "metadata": {},
   "outputs": [],
   "source": [
    "dyT=dy.T"
   ]
  },
  {
   "cell_type": "code",
   "execution_count": 62,
   "id": "2e848520-3581-4704-9f6a-f05fde7bdca2",
   "metadata": {},
   "outputs": [
    {
     "data": {
      "text/plain": [
       "array([[5, 5, 5, 5],\n",
       "       [5, 5, 5, 5],\n",
       "       [5, 5, 5, 5],\n",
       "       [6, 6, 6, 6],\n",
       "       [6, 6, 6, 6],\n",
       "       [6, 6, 6, 6]])"
      ]
     },
     "execution_count": 62,
     "metadata": {},
     "output_type": "execute_result"
    }
   ],
   "source": [
    "np.vstack([dx,dyT])"
   ]
  },
  {
   "cell_type": "code",
   "execution_count": 63,
   "id": "240ec5cf-6dcc-40b5-ba17-f4bc78f17c92",
   "metadata": {},
   "outputs": [
    {
     "data": {
      "text/plain": [
       "array([[5, 5, 5, 5],\n",
       "       [5, 5, 5, 5],\n",
       "       [5, 5, 5, 5]])"
      ]
     },
     "execution_count": 63,
     "metadata": {},
     "output_type": "execute_result"
    }
   ],
   "source": [
    "# hstack\n",
    "dx"
   ]
  },
  {
   "cell_type": "code",
   "execution_count": 64,
   "id": "63f72cd1-f30a-4e12-906b-8383a2284d96",
   "metadata": {},
   "outputs": [
    {
     "data": {
      "text/plain": [
       "array([[6, 6, 6],\n",
       "       [6, 6, 6],\n",
       "       [6, 6, 6],\n",
       "       [6, 6, 6]])"
      ]
     },
     "execution_count": 64,
     "metadata": {},
     "output_type": "execute_result"
    }
   ],
   "source": [
    "dy"
   ]
  },
  {
   "cell_type": "code",
   "execution_count": 67,
   "id": "7fb00da2-246c-4af1-a671-126a2ec3d9e6",
   "metadata": {},
   "outputs": [
    {
     "data": {
      "text/plain": [
       "array([[5, 5, 5, 5, 6, 6, 6, 6],\n",
       "       [5, 5, 5, 5, 6, 6, 6, 6],\n",
       "       [5, 5, 5, 5, 6, 6, 6, 6]])"
      ]
     },
     "execution_count": 67,
     "metadata": {},
     "output_type": "execute_result"
    }
   ],
   "source": [
    "np.hstack([dx,dyT])"
   ]
  },
  {
   "cell_type": "code",
   "execution_count": 76,
   "id": "0fba3f4d-3783-4355-a6ef-d4d28d785f87",
   "metadata": {},
   "outputs": [
    {
     "data": {
      "text/plain": [
       "array([[6, 6, 6, 6],\n",
       "       [6, 6, 6, 6],\n",
       "       [6, 6, 6, 6]])"
      ]
     },
     "execution_count": 76,
     "metadata": {},
     "output_type": "execute_result"
    }
   ],
   "source": [
    "#Create an array and perform hstack and dstack\n",
    "px=np.full((3,4),6)\n",
    "px"
   ]
  },
  {
   "cell_type": "code",
   "execution_count": 78,
   "id": "aac2b79e-eaa9-40dd-adbe-368d137f4a0e",
   "metadata": {},
   "outputs": [
    {
     "data": {
      "text/plain": [
       "array([[7, 7, 7, 7],\n",
       "       [7, 7, 7, 7],\n",
       "       [7, 7, 7, 7]])"
      ]
     },
     "execution_count": 78,
     "metadata": {},
     "output_type": "execute_result"
    }
   ],
   "source": [
    "py=np.full((3,4),7)\n",
    "py"
   ]
  },
  {
   "cell_type": "code",
   "execution_count": 79,
   "id": "88a08259-ec84-4cf3-825e-d32297489cae",
   "metadata": {},
   "outputs": [
    {
     "data": {
      "text/plain": [
       "array([[6, 6, 6, 6, 7, 7, 7, 7],\n",
       "       [6, 6, 6, 6, 7, 7, 7, 7],\n",
       "       [6, 6, 6, 6, 7, 7, 7, 7]])"
      ]
     },
     "execution_count": 79,
     "metadata": {},
     "output_type": "execute_result"
    }
   ],
   "source": [
    "np.hstack([px,py])"
   ]
  },
  {
   "cell_type": "code",
   "execution_count": 80,
   "id": "9475d6eb-4aac-44d7-87ba-0caad6311404",
   "metadata": {},
   "outputs": [
    {
     "data": {
      "text/plain": [
       "array([[6, 6, 6, 6],\n",
       "       [6, 6, 6, 6],\n",
       "       [6, 6, 6, 6],\n",
       "       [7, 7, 7, 7],\n",
       "       [7, 7, 7, 7],\n",
       "       [7, 7, 7, 7]])"
      ]
     },
     "execution_count": 80,
     "metadata": {},
     "output_type": "execute_result"
    }
   ],
   "source": [
    "np.vstack([px,py])"
   ]
  },
  {
   "cell_type": "code",
   "execution_count": 83,
   "id": "979277b1-3e90-4770-8c5e-38194a8d5333",
   "metadata": {},
   "outputs": [
    {
     "data": {
      "text/plain": [
       "array([[5, 5, 5, 5, 6, 6, 6, 6],\n",
       "       [5, 5, 5, 5, 6, 6, 6, 6],\n",
       "       [5, 5, 5, 5, 6, 6, 6, 6]])"
      ]
     },
     "execution_count": 83,
     "metadata": {},
     "output_type": "execute_result"
    }
   ],
   "source": [
    "\n",
    "np.hstack([dx,dyT])\n"
   ]
  },
  {
   "cell_type": "code",
   "execution_count": 86,
   "id": "0d2496ba-b347-4291-a857-f4efcc06d20c",
   "metadata": {},
   "outputs": [
    {
     "data": {
      "text/plain": [
       "array([[5, 5],\n",
       "       [5, 5]])"
      ]
     },
     "execution_count": 86,
     "metadata": {},
     "output_type": "execute_result"
    }
   ],
   "source": [
    "#distake()\n",
    "#Create teo diff array of same shape\n",
    "d1=np.full((2,2),5)\n",
    "d1"
   ]
  },
  {
   "cell_type": "code",
   "execution_count": 88,
   "id": "21c85dbc-ba22-4eb4-a1ba-bb8a55e8252e",
   "metadata": {},
   "outputs": [
    {
     "data": {
      "text/plain": [
       "array([[8, 8],\n",
       "       [8, 8]])"
      ]
     },
     "execution_count": 88,
     "metadata": {},
     "output_type": "execute_result"
    }
   ],
   "source": [
    "d2=np.full((2,2),8)\n",
    "d2"
   ]
  },
  {
   "cell_type": "code",
   "execution_count": 89,
   "id": "281a0121-fde1-41da-a939-91ea1cee8994",
   "metadata": {},
   "outputs": [
    {
     "data": {
      "text/plain": [
       "array([[[5, 8],\n",
       "        [5, 8]],\n",
       "\n",
       "       [[5, 8],\n",
       "        [5, 8]]])"
      ]
     },
     "execution_count": 89,
     "metadata": {},
     "output_type": "execute_result"
    }
   ],
   "source": [
    "np.dstack([d1,d2])"
   ]
  },
  {
   "cell_type": "markdown",
   "id": "bd8efbbc-f0eb-4640-8aa1-04048a02f39a",
   "metadata": {},
   "source": [
    "# Array Indexing andd Slicing"
   ]
  },
  {
   "cell_type": "markdown",
   "id": "a89737d6-6cac-44df-89f1-7d218dc9611c",
   "metadata": {},
   "source": [
    "# Array Slicing"
   ]
  },
  {
   "cell_type": "code",
   "execution_count": 90,
   "id": "ad42a906-c0d1-4ca2-bce2-0039bf448a88",
   "metadata": {},
   "outputs": [
    {
     "data": {
      "text/plain": [
       "array([ 1,  3,  5,  7,  9, 11, 13, 15, 17, 19])"
      ]
     },
     "execution_count": 90,
     "metadata": {},
     "output_type": "execute_result"
    }
   ],
   "source": [
    "da=np.arange(1,20,2)\n",
    "da\n"
   ]
  },
  {
   "cell_type": "code",
   "execution_count": 91,
   "id": "743f85a1-fbf5-48b5-95fd-30e82fe93f75",
   "metadata": {},
   "outputs": [
    {
     "data": {
      "text/plain": [
       "np.int64(1)"
      ]
     },
     "execution_count": 91,
     "metadata": {},
     "output_type": "execute_result"
    }
   ],
   "source": [
    "da[0]"
   ]
  },
  {
   "cell_type": "code",
   "execution_count": 92,
   "id": "6f0255e8-143f-4c1e-b989-819a0af13f1c",
   "metadata": {},
   "outputs": [
    {
     "data": {
      "text/plain": [
       "np.int64(19)"
      ]
     },
     "execution_count": 92,
     "metadata": {},
     "output_type": "execute_result"
    }
   ],
   "source": [
    "da[-1]"
   ]
  },
  {
   "cell_type": "code",
   "execution_count": 94,
   "id": "30555c27-f92f-4166-8188-b4ec79012f80",
   "metadata": {},
   "outputs": [
    {
     "data": {
      "text/plain": [
       "array([3, 5, 7, 9])"
      ]
     },
     "execution_count": 94,
     "metadata": {},
     "output_type": "execute_result"
    }
   ],
   "source": [
    "da[1:5]"
   ]
  },
  {
   "cell_type": "code",
   "execution_count": 95,
   "id": "3cc149da-4f16-437b-9ab8-dfe0a8b16be5",
   "metadata": {},
   "outputs": [
    {
     "data": {
      "text/plain": [
       "array([3, 9])"
      ]
     },
     "execution_count": 95,
     "metadata": {},
     "output_type": "execute_result"
    }
   ],
   "source": [
    "da[1:5:3]"
   ]
  },
  {
   "cell_type": "code",
   "execution_count": 96,
   "id": "2ad551e3-9a72-46a9-8d9b-b3c3d1e78778",
   "metadata": {},
   "outputs": [],
   "source": [
    "#array slicing in 2d\n",
    "x=list(range(5,30,5))"
   ]
  },
  {
   "cell_type": "code",
   "execution_count": 97,
   "id": "6e33fd69-7727-4411-9a91-546110b0f7e5",
   "metadata": {},
   "outputs": [
    {
     "data": {
      "text/plain": [
       "[5, 10, 15, 20, 25]"
      ]
     },
     "execution_count": 97,
     "metadata": {},
     "output_type": "execute_result"
    }
   ],
   "source": [
    "x"
   ]
  },
  {
   "cell_type": "code",
   "execution_count": 98,
   "id": "46a3bd2f-399c-4ec8-bed6-01de3921abbc",
   "metadata": {},
   "outputs": [],
   "source": [
    "y=list(range(6,36,6))"
   ]
  },
  {
   "cell_type": "code",
   "execution_count": 99,
   "id": "f1051522-ba6d-47ad-9691-95cc79c65e50",
   "metadata": {},
   "outputs": [
    {
     "data": {
      "text/plain": [
       "[6, 12, 18, 24, 30]"
      ]
     },
     "execution_count": 99,
     "metadata": {},
     "output_type": "execute_result"
    }
   ],
   "source": [
    "y"
   ]
  },
  {
   "cell_type": "code",
   "execution_count": 100,
   "id": "8bd623e8-25b6-4c20-8f04-d5148ef5df48",
   "metadata": {},
   "outputs": [
    {
     "data": {
      "text/plain": [
       "[7, 14, 21, 28, 35]"
      ]
     },
     "execution_count": 100,
     "metadata": {},
     "output_type": "execute_result"
    }
   ],
   "source": [
    "z=list(range(7,42,7))\n",
    "z"
   ]
  },
  {
   "cell_type": "code",
   "execution_count": 102,
   "id": "343dff90-4354-454c-8bb3-4d6ada7e917b",
   "metadata": {},
   "outputs": [
    {
     "data": {
      "text/plain": [
       "array([[ 5, 10, 15, 20, 25],\n",
       "       [ 6, 12, 18, 24, 30],\n",
       "       [ 7, 14, 21, 28, 35]])"
      ]
     },
     "execution_count": 102,
     "metadata": {},
     "output_type": "execute_result"
    }
   ],
   "source": [
    "demo=np.array([x,y,z])\n",
    "demo"
   ]
  },
  {
   "cell_type": "code",
   "execution_count": 103,
   "id": "ab2117ef-7b5e-4198-91c8-8b74884cd82c",
   "metadata": {},
   "outputs": [
    {
     "data": {
      "text/plain": [
       "np.int64(24)"
      ]
     },
     "execution_count": 103,
     "metadata": {},
     "output_type": "execute_result"
    }
   ],
   "source": [
    "demo[1,3]"
   ]
  },
  {
   "cell_type": "code",
   "execution_count": 104,
   "id": "d2ad411b-b99d-4e6d-874a-12297b617366",
   "metadata": {},
   "outputs": [
    {
     "data": {
      "text/plain": [
       "array([18, 24, 30])"
      ]
     },
     "execution_count": 104,
     "metadata": {},
     "output_type": "execute_result"
    }
   ],
   "source": [
    "demo[1,2:5]"
   ]
  },
  {
   "cell_type": "code",
   "execution_count": 105,
   "id": "afc40c14-f757-4ea9-90bc-32a3ebe4a473",
   "metadata": {},
   "outputs": [
    {
     "data": {
      "text/plain": [
       "array([[18, 24, 30],\n",
       "       [21, 28, 35]])"
      ]
     },
     "execution_count": 105,
     "metadata": {},
     "output_type": "execute_result"
    }
   ],
   "source": [
    "demo[1:4,2:5]"
   ]
  },
  {
   "cell_type": "code",
   "execution_count": 106,
   "id": "9600818f-f52c-43cf-a52f-6e7e48bb39e5",
   "metadata": {},
   "outputs": [
    {
     "data": {
      "text/plain": [
       "array([[ 5, 10, 15, 20, 25],\n",
       "       [ 6, 12, 18, 24, 30],\n",
       "       [ 7, 14, 21, 28, 35]])"
      ]
     },
     "execution_count": 106,
     "metadata": {},
     "output_type": "execute_result"
    }
   ],
   "source": [
    "demo"
   ]
  },
  {
   "cell_type": "code",
   "execution_count": 107,
   "id": "749493c1-01f3-4f98-84f3-526c52084d14",
   "metadata": {},
   "outputs": [
    {
     "data": {
      "text/plain": [
       "array([ 5, 10, 15, 20, 25, 30, 35])"
      ]
     },
     "execution_count": 107,
     "metadata": {},
     "output_type": "execute_result"
    }
   ],
   "source": [
    "#filter all the values divisible by 5 form given array\n",
    "demo[demo%5==0]"
   ]
  },
  {
   "cell_type": "code",
   "execution_count": 108,
   "id": "7d6d7d92-e674-418a-a212-7c1e6b523bf3",
   "metadata": {},
   "outputs": [
    {
     "data": {
      "text/plain": [
       "array([25, 24, 30, 21, 28, 35])"
      ]
     },
     "execution_count": 108,
     "metadata": {},
     "output_type": "execute_result"
    }
   ],
   "source": [
    "#filter all numbers greater than 20\n",
    "demo[demo>20]"
   ]
  },
  {
   "cell_type": "code",
   "execution_count": 110,
   "id": "fd2613c2-8418-4c30-bce5-014c1244a758",
   "metadata": {},
   "outputs": [
    {
     "data": {
      "text/plain": [
       "(array([0, 1, 1, 2, 2, 2]), array([4, 3, 4, 2, 3, 4]))"
      ]
     },
     "execution_count": 110,
     "metadata": {},
     "output_type": "execute_result"
    }
   ],
   "source": [
    "#np.where()- reruns the indexs that satisfy the given condition\n",
    "np.where(demo>20)"
   ]
  },
  {
   "cell_type": "code",
   "execution_count": 111,
   "id": "8b5b67f7-0be3-4a9f-b447-c5c8d8ffa5ad",
   "metadata": {},
   "outputs": [
    {
     "data": {
      "text/plain": [
       "array([25, 24, 30, 21, 28, 35])"
      ]
     },
     "execution_count": 111,
     "metadata": {},
     "output_type": "execute_result"
    }
   ],
   "source": [
    "demo[np.where(demo>20)]"
   ]
  },
  {
   "cell_type": "markdown",
   "id": "66fd9eda-5a4e-41a0-8fa9-af2d6e09e9e9",
   "metadata": {},
   "source": [
    "# Arithmetic Operation in Array"
   ]
  },
  {
   "cell_type": "code",
   "execution_count": 112,
   "id": "31af17c9-3c82-4951-93ae-f9cd0d15feed",
   "metadata": {},
   "outputs": [
    {
     "data": {
      "text/plain": [
       "array([[ 5, 10, 15, 20, 25],\n",
       "       [ 6, 12, 18, 24, 30],\n",
       "       [ 7, 14, 21, 28, 35]])"
      ]
     },
     "execution_count": 112,
     "metadata": {},
     "output_type": "execute_result"
    }
   ],
   "source": [
    "demo\n"
   ]
  },
  {
   "cell_type": "code",
   "execution_count": 113,
   "id": "ae9ffd99-b4eb-4287-af4d-d9a55eadc3fb",
   "metadata": {},
   "outputs": [
    {
     "data": {
      "text/plain": [
       "array([[10, 15, 20, 25, 30],\n",
       "       [11, 17, 23, 29, 35],\n",
       "       [12, 19, 26, 33, 40]])"
      ]
     },
     "execution_count": 113,
     "metadata": {},
     "output_type": "execute_result"
    }
   ],
   "source": [
    "demo+5"
   ]
  },
  {
   "cell_type": "code",
   "execution_count": 114,
   "id": "a82d6d8e-b01e-4bd5-825e-3d6dda2bad14",
   "metadata": {},
   "outputs": [
    {
     "data": {
      "text/plain": [
       "array([[1. , 2. , 3. , 4. , 5. ],\n",
       "       [1.2, 2.4, 3.6, 4.8, 6. ],\n",
       "       [1.4, 2.8, 4.2, 5.6, 7. ]])"
      ]
     },
     "execution_count": 114,
     "metadata": {},
     "output_type": "execute_result"
    }
   ],
   "source": [
    "demo/5"
   ]
  },
  {
   "cell_type": "code",
   "execution_count": 115,
   "id": "72343f28-d511-484a-9fc2-6c32fd21a7d6",
   "metadata": {},
   "outputs": [],
   "source": [
    "#Arithmetic operation between 2 arrays"
   ]
  },
  {
   "cell_type": "code",
   "execution_count": 116,
   "id": "22ca49cb-6f71-4f5a-be80-8ef388e3c98c",
   "metadata": {},
   "outputs": [
    {
     "data": {
      "text/plain": [
       "array([[ 5, 10, 15, 20, 25],\n",
       "       [ 6, 12, 18, 24, 30],\n",
       "       [ 7, 14, 21, 28, 35]])"
      ]
     },
     "execution_count": 116,
     "metadata": {},
     "output_type": "execute_result"
    }
   ],
   "source": [
    "demo"
   ]
  },
  {
   "cell_type": "code",
   "execution_count": 117,
   "id": "d5126279-a379-45b9-b119-9ff1a0d6f528",
   "metadata": {},
   "outputs": [],
   "source": [
    "dx=demo[:,1:4]"
   ]
  },
  {
   "cell_type": "code",
   "execution_count": 118,
   "id": "726ca517-9278-4191-b10a-83e0d5dbeba9",
   "metadata": {},
   "outputs": [
    {
     "data": {
      "text/plain": [
       "array([[10, 15, 20],\n",
       "       [12, 18, 24],\n",
       "       [14, 21, 28]])"
      ]
     },
     "execution_count": 118,
     "metadata": {},
     "output_type": "execute_result"
    }
   ],
   "source": [
    "dx"
   ]
  },
  {
   "cell_type": "code",
   "execution_count": 121,
   "id": "d4964def-5646-4f4f-9ea2-8b3ffeeaecc4",
   "metadata": {},
   "outputs": [
    {
     "data": {
      "text/plain": [
       "array([[10, 15, 20],\n",
       "       [12, 18, 24],\n",
       "       [14, 21, 28]])"
      ]
     },
     "execution_count": 121,
     "metadata": {},
     "output_type": "execute_result"
    }
   ],
   "source": [
    "dy=demo[:,1:4]\n",
    "dy"
   ]
  },
  {
   "cell_type": "code",
   "execution_count": 128,
   "id": "cb4ddfae-d325-457a-b894-3a5683153bd9",
   "metadata": {},
   "outputs": [
    {
     "data": {
      "text/plain": [
       "array([[13, 18, 23],\n",
       "       [15, 21, 27],\n",
       "       [17, 24, 31]])"
      ]
     },
     "execution_count": 128,
     "metadata": {},
     "output_type": "execute_result"
    }
   ],
   "source": [
    "dxx=dy+3\n",
    "dxx"
   ]
  },
  {
   "cell_type": "code",
   "execution_count": 129,
   "id": "47992b44-a3a2-45f6-9f2f-6c76675a09cb",
   "metadata": {},
   "outputs": [
    {
     "data": {
      "text/plain": [
       "array([[23, 33, 43],\n",
       "       [27, 39, 51],\n",
       "       [31, 45, 59]])"
      ]
     },
     "execution_count": 129,
     "metadata": {},
     "output_type": "execute_result"
    }
   ],
   "source": [
    "dx+dxx"
   ]
  },
  {
   "cell_type": "code",
   "execution_count": 122,
   "id": "74d2a71c-631c-4b78-ab36-392774772437",
   "metadata": {},
   "outputs": [
    {
     "data": {
      "text/plain": [
       "array([[20, 30, 40],\n",
       "       [24, 36, 48],\n",
       "       [28, 42, 56]])"
      ]
     },
     "execution_count": 122,
     "metadata": {},
     "output_type": "execute_result"
    }
   ],
   "source": [
    "dx+dy"
   ]
  },
  {
   "cell_type": "code",
   "execution_count": 124,
   "id": "b8223278-a90c-41d8-aa2d-4865c910b597",
   "metadata": {},
   "outputs": [],
   "source": [
    "d=np.arange(4)"
   ]
  },
  {
   "cell_type": "code",
   "execution_count": 126,
   "id": "729d7b17-574c-4ab5-b0c4-88e13a057ef4",
   "metadata": {},
   "outputs": [
    {
     "data": {
      "text/plain": [
       "array([0, 1, 2, 3])"
      ]
     },
     "execution_count": 126,
     "metadata": {},
     "output_type": "execute_result"
    }
   ],
   "source": [
    "d"
   ]
  },
  {
   "cell_type": "code",
   "execution_count": 130,
   "id": "94942d67-8de3-4314-9305-1494df90edf9",
   "metadata": {},
   "outputs": [],
   "source": [
    "# to add between two or more \n"
   ]
  },
  {
   "cell_type": "code",
   "execution_count": 131,
   "id": "36171483-5dbc-43b8-bbb5-7cd470198e79",
   "metadata": {},
   "outputs": [],
   "source": [
    "dsub=dx-dy"
   ]
  },
  {
   "cell_type": "code",
   "execution_count": 132,
   "id": "d4b9418c-6fe1-4c62-a32a-4457577d19e3",
   "metadata": {},
   "outputs": [
    {
     "data": {
      "text/plain": [
       "array([[0, 0, 0],\n",
       "       [0, 0, 0],\n",
       "       [0, 0, 0]])"
      ]
     },
     "execution_count": 132,
     "metadata": {},
     "output_type": "execute_result"
    }
   ],
   "source": [
    "dsub"
   ]
  },
  {
   "cell_type": "code",
   "execution_count": 133,
   "id": "d429a033-7e46-456b-a984-33887a349949",
   "metadata": {},
   "outputs": [
    {
     "data": {
      "text/plain": [
       "array([[100, 225, 400],\n",
       "       [144, 324, 576],\n",
       "       [196, 441, 784]])"
      ]
     },
     "execution_count": 133,
     "metadata": {},
     "output_type": "execute_result"
    }
   ],
   "source": [
    "dmul=dx*dy\n",
    "dmul"
   ]
  },
  {
   "cell_type": "markdown",
   "id": "df1e4d6e-e168-4d67-b115-a7bf860c5566",
   "metadata": {},
   "source": [
    "# Random Number"
   ]
  },
  {
   "cell_type": "code",
   "execution_count": 134,
   "id": "45f64af1-e9c2-4e6c-aac5-fa6bd9cd9c75",
   "metadata": {},
   "outputs": [],
   "source": [
    "options=[1,2,3,4,5]"
   ]
  },
  {
   "cell_type": "code",
   "execution_count": 135,
   "id": "23bdaa04-a98b-400d-869c-d4d0f3be4a34",
   "metadata": {},
   "outputs": [
    {
     "data": {
      "text/plain": [
       "array([2, 5, 2])"
      ]
     },
     "execution_count": 135,
     "metadata": {},
     "output_type": "execute_result"
    }
   ],
   "source": [
    "np.random.choice(options,3)"
   ]
  },
  {
   "cell_type": "code",
   "execution_count": 136,
   "id": "0c64152a-f5aa-4956-b14c-a1bbf0590cd2",
   "metadata": {},
   "outputs": [
    {
     "data": {
      "text/plain": [
       "array([1, 5, 3])"
      ]
     },
     "execution_count": 136,
     "metadata": {},
     "output_type": "execute_result"
    }
   ],
   "source": [
    "np.random.choice(options,3,replace=False)"
   ]
  },
  {
   "cell_type": "code",
   "execution_count": 137,
   "id": "03cbb20b-acc6-44ac-8b7e-bc29e87b032c",
   "metadata": {},
   "outputs": [],
   "source": [
    "#randint"
   ]
  },
  {
   "cell_type": "code",
   "execution_count": 138,
   "id": "f8cd0787-a210-4948-a384-e51b469b5760",
   "metadata": {},
   "outputs": [
    {
     "data": {
      "text/plain": [
       "5"
      ]
     },
     "execution_count": 138,
     "metadata": {},
     "output_type": "execute_result"
    }
   ],
   "source": [
    "np.random.randint(1,10)"
   ]
  },
  {
   "cell_type": "code",
   "execution_count": 139,
   "id": "e759022b-99c7-4587-b803-641bbffc3451",
   "metadata": {},
   "outputs": [
    {
     "data": {
      "text/plain": [
       "array([1, 5, 1, 1], dtype=int32)"
      ]
     },
     "execution_count": 139,
     "metadata": {},
     "output_type": "execute_result"
    }
   ],
   "source": [
    "np.random.randint(1,10,4)"
   ]
  },
  {
   "cell_type": "code",
   "execution_count": null,
   "id": "675b4a88-fd17-4d18-b869-929b1c420ab9",
   "metadata": {},
   "outputs": [],
   "source": [
    "#permutation and  "
   ]
  }
 ],
 "metadata": {
  "kernelspec": {
   "display_name": "Python 3 (ipykernel)",
   "language": "python",
   "name": "python3"
  },
  "language_info": {
   "codemirror_mode": {
    "name": "ipython",
    "version": 3
   },
   "file_extension": ".py",
   "mimetype": "text/x-python",
   "name": "python",
   "nbconvert_exporter": "python",
   "pygments_lexer": "ipython3",
   "version": "3.13.2"
  }
 },
 "nbformat": 4,
 "nbformat_minor": 5
}
